{
 "cells": [
  {
   "cell_type": "markdown",
   "metadata": {},
   "source": [
    "You can download the `requirements.txt` for this course from the workspace of this lab. `File --> Open...`"
   ]
  },
  {
   "cell_type": "markdown",
   "metadata": {},
   "source": [
    "# L2: Create Agents to Research and Write an Article\n",
    "\n",
    "In this lesson, you will be introduced to the foundational concepts of multi-agent systems and get an overview of the crewAI framework."
   ]
  },
  {
   "cell_type": "markdown",
   "metadata": {},
   "source": [
    "The libraries are already installed in the classroom. If you're running this notebook on your own machine, you can install the following:\n",
    "```Python\n",
    "!pip install crewai==0.28.8 crewai_tools==0.1.6 langchain_community==0.0.29\n",
    "```"
   ]
  },
  {
   "cell_type": "code",
   "execution_count": 2,
   "metadata": {
    "height": 64
   },
   "outputs": [],
   "source": [
    "# Warning control\n",
    "import warnings\n",
    "warnings.filterwarnings('ignore')"
   ]
  },
  {
   "cell_type": "markdown",
   "metadata": {},
   "source": [
    "- Import from the crewAI libray."
   ]
  },
  {
   "cell_type": "code",
   "execution_count": 3,
   "metadata": {
    "height": 30
   },
   "outputs": [],
   "source": [
    "from crewai import Agent, Task, Crew"
   ]
  },
  {
   "cell_type": "markdown",
   "metadata": {},
   "source": [
    "- As a LLM for your agents, you'll be using OpenAI's `gpt-3.5-turbo`.\n",
    "\n",
    "**Optional Note:** crewAI also allow other popular models to be used as a LLM for your Agents. You can see some of the examples at the [bottom of the notebook](#1)."
   ]
  },
  {
   "cell_type": "code",
   "execution_count": 4,
   "metadata": {
    "height": 98
   },
   "outputs": [],
   "source": [
    "import os\n",
    "from utils import get_openai_api_key\n",
    "\n",
    "openai_api_key = get_openai_api_key()\n",
    "os.environ[\"OPENAI_MODEL_NAME\"] = 'gpt-3.5-turbo'"
   ]
  },
  {
   "cell_type": "markdown",
   "metadata": {},
   "source": [
    "## Creating Agents\n",
    "\n",
    "- Define your Agents, and provide them a `role`, `goal` and `backstory`.\n",
    "- It has been seen that LLMs perform better when they are role playing."
   ]
  },
  {
   "cell_type": "markdown",
   "metadata": {},
   "source": [
    "### Agent: Planner\n",
    "\n",
    "**Note**: The benefit of using _multiple strings_ :\n",
    "```Python\n",
    "varname = \"line 1 of text\"\n",
    "          \"line 2 of text\"\n",
    "```\n",
    "\n",
    "versus the _triple quote docstring_:\n",
    "```Python\n",
    "varname = \"\"\"line 1 of text\n",
    "             line 2 of text\n",
    "          \"\"\"\n",
    "```\n",
    "is that it can avoid adding those whitespaces and newline characters, making it better formatted to be passed to the LLM."
   ]
  },
  {
   "cell_type": "code",
   "execution_count": 5,
   "metadata": {
    "height": 234
   },
   "outputs": [],
   "source": [
    "planner = Agent(\n",
    "    role=\"Content Planner\",\n",
    "    goal=\"Plan engaging and factually accurate content on {topic}\",\n",
    "    backstory=\"You're working on planning a blog article \"\n",
    "              \"about the topic: {topic}.\"\n",
    "              \"You collect information that helps the \"\n",
    "              \"audience learn something \"\n",
    "              \"and make informed decisions. \"\n",
    "              \"Your work is the basis for \"\n",
    "              \"the Content Writer to write an article on this topic.\",\n",
    "    allow_delegation=False,\n",
    "\tverbose=True\n",
    ")"
   ]
  },
  {
   "cell_type": "markdown",
   "metadata": {},
   "source": [
    "### Agent: Writer"
   ]
  },
  {
   "cell_type": "code",
   "execution_count": 6,
   "metadata": {
    "height": 370
   },
   "outputs": [],
   "source": [
    "writer = Agent(\n",
    "    role=\"Content Writer\",\n",
    "    goal=\"Write insightful and factually accurate \"\n",
    "         \"opinion piece about the topic: {topic}\",\n",
    "    backstory=\"You're working on a writing \"\n",
    "              \"a new opinion piece about the topic: {topic}. \"\n",
    "              \"You base your writing on the work of \"\n",
    "              \"the Content Planner, who provides an outline \"\n",
    "              \"and relevant context about the topic. \"\n",
    "              \"You follow the main objectives and \"\n",
    "              \"direction of the outline, \"\n",
    "              \"as provide by the Content Planner. \"\n",
    "              \"You also provide objective and impartial insights \"\n",
    "              \"and back them up with information \"\n",
    "              \"provide by the Content Planner. \"\n",
    "              \"You acknowledge in your opinion piece \"\n",
    "              \"when your statements are opinions \"\n",
    "              \"as opposed to objective statements.\",\n",
    "    allow_delegation=False,\n",
    "    verbose=True\n",
    ")"
   ]
  },
  {
   "cell_type": "markdown",
   "metadata": {},
   "source": [
    "### Agent: Editor"
   ]
  },
  {
   "cell_type": "code",
   "execution_count": 7,
   "metadata": {
    "height": 268
   },
   "outputs": [],
   "source": [
    "editor = Agent(\n",
    "    role=\"Editor\",\n",
    "    goal=\"Edit a given blog post to align with \"\n",
    "         \"the writing style of the organization. \",\n",
    "    backstory=\"You are an editor who receives a blog post \"\n",
    "              \"from the Content Writer. \"\n",
    "              \"Your goal is to review the blog post \"\n",
    "              \"to ensure that it follows journalistic best practices,\"\n",
    "              \"provides balanced viewpoints \"\n",
    "              \"when providing opinions or assertions, \"\n",
    "              \"and also avoids major controversial topics \"\n",
    "              \"or opinions when possible.\",\n",
    "    allow_delegation=False,\n",
    "    verbose=True\n",
    ")"
   ]
  },
  {
   "cell_type": "markdown",
   "metadata": {},
   "source": [
    "## Creating Tasks\n",
    "\n",
    "- Define your Tasks, and provide them a `description`, `expected_output` and `agent`."
   ]
  },
  {
   "cell_type": "markdown",
   "metadata": {},
   "source": [
    "### Task: Plan"
   ]
  },
  {
   "cell_type": "code",
   "execution_count": 8,
   "metadata": {
    "height": 268
   },
   "outputs": [],
   "source": [
    "plan = Task(\n",
    "    description=(\n",
    "        \"1. Prioritize the latest trends, key players, \"\n",
    "            \"and noteworthy news on {topic}.\\n\"\n",
    "        \"2. Identify the target audience, considering \"\n",
    "            \"their interests and pain points.\\n\"\n",
    "        \"3. Develop a detailed content outline including \"\n",
    "            \"an introduction, key points, and a call to action.\\n\"\n",
    "        \"4. Include SEO keywords and relevant data or sources.\"\n",
    "    ),\n",
    "    expected_output=\"A comprehensive content plan document \"\n",
    "        \"with an outline, audience analysis, \"\n",
    "        \"SEO keywords, and resources.\",\n",
    "    agent=planner,\n",
    ")"
   ]
  },
  {
   "cell_type": "markdown",
   "metadata": {},
   "source": [
    "### Task: Write"
   ]
  },
  {
   "cell_type": "code",
   "execution_count": 9,
   "metadata": {
    "height": 319
   },
   "outputs": [],
   "source": [
    "write = Task(\n",
    "    description=(\n",
    "        \"1. Use the content plan to craft a compelling \"\n",
    "            \"blog post on {topic}.\\n\"\n",
    "        \"2. Incorporate SEO keywords naturally.\\n\"\n",
    "\t\t\"3. Sections/Subtitles are properly named \"\n",
    "            \"in an engaging manner.\\n\"\n",
    "        \"4. Ensure the post is structured with an \"\n",
    "            \"engaging introduction, insightful body, \"\n",
    "            \"and a summarizing conclusion.\\n\"\n",
    "        \"5. Proofread for grammatical errors and \"\n",
    "            \"alignment with the brand's voice.\\n\"\n",
    "    ),\n",
    "    expected_output=\"A well-written blog post \"\n",
    "        \"in markdown format, ready for publication, \"\n",
    "        \"each section should have 2 or 3 paragraphs.\",\n",
    "    agent=writer,\n",
    ")"
   ]
  },
  {
   "cell_type": "markdown",
   "metadata": {},
   "source": [
    "### Task: Edit"
   ]
  },
  {
   "cell_type": "code",
   "execution_count": 10,
   "metadata": {
    "height": 166
   },
   "outputs": [],
   "source": [
    "edit = Task(\n",
    "    description=(\"Proofread the given blog post for \"\n",
    "                 \"grammatical errors and \"\n",
    "                 \"alignment with the brand's voice.\"),\n",
    "    expected_output=\"A well-written blog post in markdown format, \"\n",
    "                    \"ready for publication, \"\n",
    "                    \"each section should have 2 or 3 paragraphs.\",\n",
    "    agent=editor\n",
    ")"
   ]
  },
  {
   "cell_type": "markdown",
   "metadata": {},
   "source": [
    "## Creating the Crew\n",
    "\n",
    "- Create your crew of Agents\n",
    "- Pass the tasks to be performed by those agents.\n",
    "    - **Note**: *For this simple example*, the tasks will be performed sequentially (i.e they are dependent on each other), so the _order_ of the task in the list _matters_.\n",
    "- `verbose=2` allows you to see all the logs of the execution. "
   ]
  },
  {
   "cell_type": "code",
   "execution_count": 11,
   "metadata": {
    "height": 98
   },
   "outputs": [],
   "source": [
    "crew = Crew(\n",
    "    agents=[planner, writer, editor],\n",
    "    tasks=[plan, write, edit],\n",
    "    verbose=2\n",
    ")"
   ]
  },
  {
   "cell_type": "markdown",
   "metadata": {},
   "source": [
    "## Running the Crew"
   ]
  },
  {
   "cell_type": "markdown",
   "metadata": {},
   "source": [
    "**Note**: LLMs can provide different outputs for they same input, so what you get might be different than what you see in the video."
   ]
  },
  {
   "cell_type": "code",
   "execution_count": 16,
   "metadata": {
    "height": 30
   },
   "outputs": [
    {
     "name": "stdout",
     "output_type": "stream",
     "text": [
      "\u001b[1m\u001b[95m [DEBUG]: == Working Agent: Content Planner\u001b[00m\n",
      "\u001b[1m\u001b[95m [INFO]: == Starting Task: 1. Prioritize the latest trends, key players, and noteworthy news on Artificial Intelligence.\n",
      "2. Identify the target audience, considering their interests and pain points.\n",
      "3. Develop a detailed content outline including an introduction, key points, and a call to action.\n",
      "4. Include SEO keywords and relevant data or sources.\u001b[00m\n",
      "\n",
      "\n",
      "\u001b[1m> Entering new CrewAgentExecutor chain...\u001b[0m\n",
      "\u001b[32;1m\u001b[1;3mI now can give a great answer\n",
      "\n",
      "Final Answer:\n",
      "\n",
      "Content Plan: \n",
      "\n",
      "Title: The Future of Artificial Intelligence: Trends, Key Players, and News\n",
      "\n",
      "Introduction:\n",
      "- Brief overview of Artificial Intelligence (AI) and its impact on various industries\n",
      "- Importance of staying updated on the latest trends and key players in the AI space\n",
      "\n",
      "Key Points:\n",
      "1. Latest Trends in Artificial Intelligence:\n",
      "- Machine learning advancements\n",
      "- Natural language processing developments\n",
      "- Autonomous vehicles and robotics\n",
      "- AI ethics and bias concerns\n",
      "\n",
      "2. Key Players in the Artificial Intelligence Industry:\n",
      "- Google AI\n",
      "- IBM Watson\n",
      "- Amazon Web Services (AWS)\n",
      "- Microsoft AI\n",
      "- OpenAI\n",
      "\n",
      "3. Noteworthy News in Artificial Intelligence:\n",
      "- Recent breakthroughs in AI research\n",
      "- Industry partnerships and collaborations\n",
      "- Regulatory updates in AI technology\n",
      "\n",
      "Target Audience:\n",
      "- Tech enthusiasts\n",
      "- Business professionals looking to adopt AI solutions\n",
      "- Students and researchers in the field of AI\n",
      "- Policy makers and regulators interested in AI governance\n",
      "\n",
      "Audience Analysis:\n",
      "- Interests: Cutting-edge technology, innovation, future trends\n",
      "- Pain Points: Understanding complex AI concepts, staying informed on rapidly changing industry landscape\n",
      "\n",
      "SEO Keywords:\n",
      "- Artificial Intelligence trends\n",
      "- Key players in AI industry\n",
      "- Latest news in Artificial Intelligence\n",
      "- AI developments and advancements\n",
      "\n",
      "Call to Action:\n",
      "- Encourage readers to subscribe to a newsletter for regular updates on AI trends\n",
      "- Provide links to relevant resources and further reading on AI news and developments\n",
      "\n",
      "Resources:\n",
      "- Forbes: Artificial Intelligence News section\n",
      "- TechCrunch: AI coverage and analysis\n",
      "- MIT Technology Review: Latest advancements in AI research\n",
      "\n",
      "By following this comprehensive content plan, the blog article on Artificial Intelligence will provide valuable insights and information to the target audience, helping them stay informed and make informed decisions in the rapidly evolving AI landscape.\u001b[0m\n",
      "\n",
      "\u001b[1m> Finished chain.\u001b[0m\n",
      "\u001b[1m\u001b[92m [DEBUG]: == [Content Planner] Task output: Content Plan: \n",
      "\n",
      "Title: The Future of Artificial Intelligence: Trends, Key Players, and News\n",
      "\n",
      "Introduction:\n",
      "- Brief overview of Artificial Intelligence (AI) and its impact on various industries\n",
      "- Importance of staying updated on the latest trends and key players in the AI space\n",
      "\n",
      "Key Points:\n",
      "1. Latest Trends in Artificial Intelligence:\n",
      "- Machine learning advancements\n",
      "- Natural language processing developments\n",
      "- Autonomous vehicles and robotics\n",
      "- AI ethics and bias concerns\n",
      "\n",
      "2. Key Players in the Artificial Intelligence Industry:\n",
      "- Google AI\n",
      "- IBM Watson\n",
      "- Amazon Web Services (AWS)\n",
      "- Microsoft AI\n",
      "- OpenAI\n",
      "\n",
      "3. Noteworthy News in Artificial Intelligence:\n",
      "- Recent breakthroughs in AI research\n",
      "- Industry partnerships and collaborations\n",
      "- Regulatory updates in AI technology\n",
      "\n",
      "Target Audience:\n",
      "- Tech enthusiasts\n",
      "- Business professionals looking to adopt AI solutions\n",
      "- Students and researchers in the field of AI\n",
      "- Policy makers and regulators interested in AI governance\n",
      "\n",
      "Audience Analysis:\n",
      "- Interests: Cutting-edge technology, innovation, future trends\n",
      "- Pain Points: Understanding complex AI concepts, staying informed on rapidly changing industry landscape\n",
      "\n",
      "SEO Keywords:\n",
      "- Artificial Intelligence trends\n",
      "- Key players in AI industry\n",
      "- Latest news in Artificial Intelligence\n",
      "- AI developments and advancements\n",
      "\n",
      "Call to Action:\n",
      "- Encourage readers to subscribe to a newsletter for regular updates on AI trends\n",
      "- Provide links to relevant resources and further reading on AI news and developments\n",
      "\n",
      "Resources:\n",
      "- Forbes: Artificial Intelligence News section\n",
      "- TechCrunch: AI coverage and analysis\n",
      "- MIT Technology Review: Latest advancements in AI research\n",
      "\n",
      "By following this comprehensive content plan, the blog article on Artificial Intelligence will provide valuable insights and information to the target audience, helping them stay informed and make informed decisions in the rapidly evolving AI landscape.\n",
      "\n",
      "\u001b[00m\n",
      "\u001b[1m\u001b[95m [DEBUG]: == Working Agent: Content Writer\u001b[00m\n",
      "\u001b[1m\u001b[95m [INFO]: == Starting Task: 1. Use the content plan to craft a compelling blog post on Artificial Intelligence.\n",
      "2. Incorporate SEO keywords naturally.\n",
      "3. Sections/Subtitles are properly named in an engaging manner.\n",
      "4. Ensure the post is structured with an engaging introduction, insightful body, and a summarizing conclusion.\n",
      "5. Proofread for grammatical errors and alignment with the brand's voice.\n",
      "\u001b[00m\n",
      "\n",
      "\n",
      "\u001b[1m> Entering new CrewAgentExecutor chain...\u001b[0m\n",
      "\u001b[32;1m\u001b[1;3mI have a clear understanding of the Content Plan provided and how to structure my blog post on Artificial Intelligence. I am confident that I can craft a compelling and informative piece that will engage the target audience and provide valuable insights on the latest trends, key players, and news in the AI industry.\n",
      "\n",
      "Final Answer:\n",
      "\n",
      "# The Future of Artificial Intelligence: Trends, Key Players, and News\n",
      "\n",
      "## Introduction\n",
      "\n",
      "Artificial Intelligence (AI) has revolutionized various industries, from healthcare to finance, by providing innovative solutions and enhancing efficiency. As AI continues to evolve rapidly, it is crucial for individuals to stay updated on the latest trends and key players in the AI space. This blog post aims to explore the current landscape of AI, highlighting the trends shaping the industry, the key players driving innovation, and the noteworthy news that is shaping the future of AI.\n",
      "\n",
      "## Latest Trends in Artificial Intelligence\n",
      "\n",
      "One of the most significant trends in Artificial Intelligence is the advancements in machine learning. Machine learning algorithms are becoming increasingly sophisticated, enabling AI systems to learn from data and improve their performance over time. Additionally, natural language processing has seen significant developments, with AI-powered language models such as GPT-3 achieving remarkable capabilities in understanding and generating human-like text. The rise of autonomous vehicles and robotics is also a key trend in AI, with companies like Tesla and Boston Dynamics pushing the boundaries of what is possible with AI-driven technologies. However, along with these advancements come concerns about AI ethics and bias, highlighting the importance of responsible AI development and deployment.\n",
      "\n",
      "## Key Players in the Artificial Intelligence Industry\n",
      "\n",
      "Several key players are driving innovation in the AI industry, including Google AI, IBM Watson, Amazon Web Services (AWS), Microsoft AI, and OpenAI. These companies are at the forefront of AI research and development, creating cutting-edge solutions that are shaping the future of AI. Google AI, for example, is known for its work in machine learning and natural language processing, while IBM Watson is a leader in AI-powered healthcare solutions. Amazon Web Services provides cloud-based AI services to businesses worldwide, and Microsoft AI focuses on democratizing AI by making it accessible to all. OpenAI, on the other hand, is known for its research in artificial general intelligence, pushing the boundaries of what AI can achieve.\n",
      "\n",
      "## Noteworthy News in Artificial Intelligence\n",
      "\n",
      "Recent breakthroughs in AI research have been making headlines, from advancements in computer vision to the development of AI-driven drug discovery platforms. Industry partnerships and collaborations are also shaping the AI landscape, with companies coming together to develop AI solutions for specific industries and use cases. Regulatory updates in AI technology are also important to monitor, as governments around the world are working to establish guidelines and frameworks for the ethical use of AI. Staying informed on these developments is crucial for anyone looking to leverage AI in their business or research.\n",
      "\n",
      "## Conclusion\n",
      "\n",
      "In conclusion, Artificial Intelligence is a rapidly evolving field with endless possibilities for innovation and growth. By staying informed on the latest trends, key players, and news in the AI industry, individuals can make informed decisions and stay ahead of the curve. Whether you are a tech enthusiast, a business professional, a student, or a policy maker, understanding the complex concepts and advancements in AI is essential for navigating the future of technology. Subscribe to our newsletter for regular updates on AI trends and explore the resources provided for further reading on AI news and developments. Let's embrace the future of Artificial Intelligence together and shape a world powered by innovation and technology.\u001b[0m\n",
      "\n",
      "\u001b[1m> Finished chain.\u001b[0m\n",
      "\u001b[1m\u001b[92m [DEBUG]: == [Content Writer] Task output: # The Future of Artificial Intelligence: Trends, Key Players, and News\n",
      "\n",
      "## Introduction\n",
      "\n",
      "Artificial Intelligence (AI) has revolutionized various industries, from healthcare to finance, by providing innovative solutions and enhancing efficiency. As AI continues to evolve rapidly, it is crucial for individuals to stay updated on the latest trends and key players in the AI space. This blog post aims to explore the current landscape of AI, highlighting the trends shaping the industry, the key players driving innovation, and the noteworthy news that is shaping the future of AI.\n",
      "\n",
      "## Latest Trends in Artificial Intelligence\n",
      "\n",
      "One of the most significant trends in Artificial Intelligence is the advancements in machine learning. Machine learning algorithms are becoming increasingly sophisticated, enabling AI systems to learn from data and improve their performance over time. Additionally, natural language processing has seen significant developments, with AI-powered language models such as GPT-3 achieving remarkable capabilities in understanding and generating human-like text. The rise of autonomous vehicles and robotics is also a key trend in AI, with companies like Tesla and Boston Dynamics pushing the boundaries of what is possible with AI-driven technologies. However, along with these advancements come concerns about AI ethics and bias, highlighting the importance of responsible AI development and deployment.\n",
      "\n",
      "## Key Players in the Artificial Intelligence Industry\n",
      "\n",
      "Several key players are driving innovation in the AI industry, including Google AI, IBM Watson, Amazon Web Services (AWS), Microsoft AI, and OpenAI. These companies are at the forefront of AI research and development, creating cutting-edge solutions that are shaping the future of AI. Google AI, for example, is known for its work in machine learning and natural language processing, while IBM Watson is a leader in AI-powered healthcare solutions. Amazon Web Services provides cloud-based AI services to businesses worldwide, and Microsoft AI focuses on democratizing AI by making it accessible to all. OpenAI, on the other hand, is known for its research in artificial general intelligence, pushing the boundaries of what AI can achieve.\n",
      "\n",
      "## Noteworthy News in Artificial Intelligence\n",
      "\n",
      "Recent breakthroughs in AI research have been making headlines, from advancements in computer vision to the development of AI-driven drug discovery platforms. Industry partnerships and collaborations are also shaping the AI landscape, with companies coming together to develop AI solutions for specific industries and use cases. Regulatory updates in AI technology are also important to monitor, as governments around the world are working to establish guidelines and frameworks for the ethical use of AI. Staying informed on these developments is crucial for anyone looking to leverage AI in their business or research.\n",
      "\n",
      "## Conclusion\n",
      "\n",
      "In conclusion, Artificial Intelligence is a rapidly evolving field with endless possibilities for innovation and growth. By staying informed on the latest trends, key players, and news in the AI industry, individuals can make informed decisions and stay ahead of the curve. Whether you are a tech enthusiast, a business professional, a student, or a policy maker, understanding the complex concepts and advancements in AI is essential for navigating the future of technology. Subscribe to our newsletter for regular updates on AI trends and explore the resources provided for further reading on AI news and developments. Let's embrace the future of Artificial Intelligence together and shape a world powered by innovation and technology.\n",
      "\n",
      "\u001b[00m\n",
      "\u001b[1m\u001b[95m [DEBUG]: == Working Agent: Editor\u001b[00m\n",
      "\u001b[1m\u001b[95m [INFO]: == Starting Task: Proofread the given blog post for grammatical errors and alignment with the brand's voice.\u001b[00m\n",
      "\n",
      "\n",
      "\u001b[1m> Entering new CrewAgentExecutor chain...\u001b[0m\n"
     ]
    },
    {
     "name": "stdout",
     "output_type": "stream",
     "text": [
      "\u001b[32;1m\u001b[1;3mI now can give a great answer.\n",
      "\n",
      "Final Answer:\n",
      "\n",
      "# The Future of Artificial Intelligence: Trends, Key Players, and News\n",
      "\n",
      "## Introduction\n",
      "\n",
      "Artificial Intelligence (AI) has revolutionized various industries, from healthcare to finance, by providing innovative solutions and enhancing efficiency. As AI continues to evolve rapidly, it is crucial for individuals to stay updated on the latest trends and key players in the AI space. This blog post aims to explore the current landscape of AI, highlighting the trends shaping the industry, the key players driving innovation, and the noteworthy news that is shaping the future of AI.\n",
      "\n",
      "## Latest Trends in Artificial Intelligence\n",
      "\n",
      "One of the most significant trends in Artificial Intelligence is the advancements in machine learning. Machine learning algorithms are becoming increasingly sophisticated, enabling AI systems to learn from data and improve their performance over time. Additionally, natural language processing has seen significant developments, with AI-powered language models such as GPT-3 achieving remarkable capabilities in understanding and generating human-like text. The rise of autonomous vehicles and robotics is also a key trend in AI, with companies like Tesla and Boston Dynamics pushing the boundaries of what is possible with AI-driven technologies. However, along with these advancements come concerns about AI ethics and bias, highlighting the importance of responsible AI development and deployment.\n",
      "\n",
      "## Key Players in the Artificial Intelligence Industry\n",
      "\n",
      "Several key players are driving innovation in the AI industry, including Google AI, IBM Watson, Amazon Web Services (AWS), Microsoft AI, and OpenAI. These companies are at the forefront of AI research and development, creating cutting-edge solutions that are shaping the future of AI. Google AI, for example, is known for its work in machine learning and natural language processing, while IBM Watson is a leader in AI-powered healthcare solutions. Amazon Web Services provides cloud-based AI services to businesses worldwide, and Microsoft AI focuses on democratizing AI by making it accessible to all. OpenAI, on the other hand, is known for its research in artificial general intelligence, pushing the boundaries of what AI can achieve.\n",
      "\n",
      "## Noteworthy News in Artificial Intelligence\n",
      "\n",
      "Recent breakthroughs in AI research have been making headlines, from advancements in computer vision to the development of AI-driven drug discovery platforms. Industry partnerships and collaborations are also shaping the AI landscape, with companies coming together to develop AI solutions for specific industries and use cases. Regulatory updates in AI technology are also important to monitor, as governments around the world are working to establish guidelines and frameworks for the ethical use of AI. Staying informed on these developments is crucial for anyone looking to leverage AI in their business or research.\n",
      "\n",
      "## Conclusion\n",
      "\n",
      "In conclusion, Artificial Intelligence is a rapidly evolving field with endless possibilities for innovation and growth. By staying informed on the latest trends, key players, and news in the AI industry, individuals can make informed decisions and stay ahead of the curve. Whether you are a tech enthusiast, a business professional, a student, or a policy maker, understanding the complex concepts and advancements in AI is essential for navigating the future of technology. Subscribe to our newsletter for regular updates on AI trends and explore the resources provided for further reading on AI news and developments. Let's embrace the future of Artificial Intelligence together and shape a world powered by innovation and technology.\u001b[0m\n",
      "\n",
      "\u001b[1m> Finished chain.\u001b[0m\n",
      "\u001b[1m\u001b[92m [DEBUG]: == [Editor] Task output: # The Future of Artificial Intelligence: Trends, Key Players, and News\n",
      "\n",
      "## Introduction\n",
      "\n",
      "Artificial Intelligence (AI) has revolutionized various industries, from healthcare to finance, by providing innovative solutions and enhancing efficiency. As AI continues to evolve rapidly, it is crucial for individuals to stay updated on the latest trends and key players in the AI space. This blog post aims to explore the current landscape of AI, highlighting the trends shaping the industry, the key players driving innovation, and the noteworthy news that is shaping the future of AI.\n",
      "\n",
      "## Latest Trends in Artificial Intelligence\n",
      "\n",
      "One of the most significant trends in Artificial Intelligence is the advancements in machine learning. Machine learning algorithms are becoming increasingly sophisticated, enabling AI systems to learn from data and improve their performance over time. Additionally, natural language processing has seen significant developments, with AI-powered language models such as GPT-3 achieving remarkable capabilities in understanding and generating human-like text. The rise of autonomous vehicles and robotics is also a key trend in AI, with companies like Tesla and Boston Dynamics pushing the boundaries of what is possible with AI-driven technologies. However, along with these advancements come concerns about AI ethics and bias, highlighting the importance of responsible AI development and deployment.\n",
      "\n",
      "## Key Players in the Artificial Intelligence Industry\n",
      "\n",
      "Several key players are driving innovation in the AI industry, including Google AI, IBM Watson, Amazon Web Services (AWS), Microsoft AI, and OpenAI. These companies are at the forefront of AI research and development, creating cutting-edge solutions that are shaping the future of AI. Google AI, for example, is known for its work in machine learning and natural language processing, while IBM Watson is a leader in AI-powered healthcare solutions. Amazon Web Services provides cloud-based AI services to businesses worldwide, and Microsoft AI focuses on democratizing AI by making it accessible to all. OpenAI, on the other hand, is known for its research in artificial general intelligence, pushing the boundaries of what AI can achieve.\n",
      "\n",
      "## Noteworthy News in Artificial Intelligence\n",
      "\n",
      "Recent breakthroughs in AI research have been making headlines, from advancements in computer vision to the development of AI-driven drug discovery platforms. Industry partnerships and collaborations are also shaping the AI landscape, with companies coming together to develop AI solutions for specific industries and use cases. Regulatory updates in AI technology are also important to monitor, as governments around the world are working to establish guidelines and frameworks for the ethical use of AI. Staying informed on these developments is crucial for anyone looking to leverage AI in their business or research.\n",
      "\n",
      "## Conclusion\n",
      "\n",
      "In conclusion, Artificial Intelligence is a rapidly evolving field with endless possibilities for innovation and growth. By staying informed on the latest trends, key players, and news in the AI industry, individuals can make informed decisions and stay ahead of the curve. Whether you are a tech enthusiast, a business professional, a student, or a policy maker, understanding the complex concepts and advancements in AI is essential for navigating the future of technology. Subscribe to our newsletter for regular updates on AI trends and explore the resources provided for further reading on AI news and developments. Let's embrace the future of Artificial Intelligence together and shape a world powered by innovation and technology.\n",
      "\n",
      "\u001b[00m\n"
     ]
    }
   ],
   "source": [
    "result = crew.kickoff(inputs={\"topic\": \"Artificial Intelligence\"})"
   ]
  },
  {
   "cell_type": "markdown",
   "metadata": {},
   "source": [
    "- Display the results of your execution as markdown in the notebook."
   ]
  },
  {
   "cell_type": "code",
   "execution_count": 17,
   "metadata": {
    "height": 47
   },
   "outputs": [
    {
     "data": {
      "text/markdown": [
       "# The Future of Artificial Intelligence: Trends, Key Players, and News\n",
       "\n",
       "## Introduction\n",
       "\n",
       "Artificial Intelligence (AI) has revolutionized various industries, from healthcare to finance, by providing innovative solutions and enhancing efficiency. As AI continues to evolve rapidly, it is crucial for individuals to stay updated on the latest trends and key players in the AI space. This blog post aims to explore the current landscape of AI, highlighting the trends shaping the industry, the key players driving innovation, and the noteworthy news that is shaping the future of AI.\n",
       "\n",
       "## Latest Trends in Artificial Intelligence\n",
       "\n",
       "One of the most significant trends in Artificial Intelligence is the advancements in machine learning. Machine learning algorithms are becoming increasingly sophisticated, enabling AI systems to learn from data and improve their performance over time. Additionally, natural language processing has seen significant developments, with AI-powered language models such as GPT-3 achieving remarkable capabilities in understanding and generating human-like text. The rise of autonomous vehicles and robotics is also a key trend in AI, with companies like Tesla and Boston Dynamics pushing the boundaries of what is possible with AI-driven technologies. However, along with these advancements come concerns about AI ethics and bias, highlighting the importance of responsible AI development and deployment.\n",
       "\n",
       "## Key Players in the Artificial Intelligence Industry\n",
       "\n",
       "Several key players are driving innovation in the AI industry, including Google AI, IBM Watson, Amazon Web Services (AWS), Microsoft AI, and OpenAI. These companies are at the forefront of AI research and development, creating cutting-edge solutions that are shaping the future of AI. Google AI, for example, is known for its work in machine learning and natural language processing, while IBM Watson is a leader in AI-powered healthcare solutions. Amazon Web Services provides cloud-based AI services to businesses worldwide, and Microsoft AI focuses on democratizing AI by making it accessible to all. OpenAI, on the other hand, is known for its research in artificial general intelligence, pushing the boundaries of what AI can achieve.\n",
       "\n",
       "## Noteworthy News in Artificial Intelligence\n",
       "\n",
       "Recent breakthroughs in AI research have been making headlines, from advancements in computer vision to the development of AI-driven drug discovery platforms. Industry partnerships and collaborations are also shaping the AI landscape, with companies coming together to develop AI solutions for specific industries and use cases. Regulatory updates in AI technology are also important to monitor, as governments around the world are working to establish guidelines and frameworks for the ethical use of AI. Staying informed on these developments is crucial for anyone looking to leverage AI in their business or research.\n",
       "\n",
       "## Conclusion\n",
       "\n",
       "In conclusion, Artificial Intelligence is a rapidly evolving field with endless possibilities for innovation and growth. By staying informed on the latest trends, key players, and news in the AI industry, individuals can make informed decisions and stay ahead of the curve. Whether you are a tech enthusiast, a business professional, a student, or a policy maker, understanding the complex concepts and advancements in AI is essential for navigating the future of technology. Subscribe to our newsletter for regular updates on AI trends and explore the resources provided for further reading on AI news and developments. Let's embrace the future of Artificial Intelligence together and shape a world powered by innovation and technology."
      ],
      "text/plain": [
       "<IPython.core.display.Markdown object>"
      ]
     },
     "execution_count": 17,
     "metadata": {},
     "output_type": "execute_result"
    }
   ],
   "source": [
    "from IPython.display import Markdown\n",
    "Markdown(result)"
   ]
  },
  {
   "cell_type": "markdown",
   "metadata": {},
   "source": [
    "## Try it Yourself\n",
    "\n",
    "- Pass in a topic of your choice and see what the agents come up with!"
   ]
  },
  {
   "cell_type": "code",
   "execution_count": 18,
   "metadata": {
    "height": 47
   },
   "outputs": [
    {
     "name": "stdout",
     "output_type": "stream",
     "text": [
      "\u001b[1m\u001b[95m [DEBUG]: == Working Agent: Content Planner\u001b[00m\n",
      "\u001b[1m\u001b[95m [INFO]: == Starting Task: 1. Prioritize the latest trends, key players, and noteworthy news on Multi Agent Systems.\n",
      "2. Identify the target audience, considering their interests and pain points.\n",
      "3. Develop a detailed content outline including an introduction, key points, and a call to action.\n",
      "4. Include SEO keywords and relevant data or sources.\u001b[00m\n",
      "\n",
      "\n",
      "\u001b[1m> Entering new CrewAgentExecutor chain...\u001b[0m\n",
      "\u001b[32;1m\u001b[1;3mI now can give a great answer\n",
      "\n",
      "Final Answer:\n",
      "\n",
      "Content Plan: Multi Agent Systems\n",
      "\n",
      "Outline:\n",
      "I. Introduction\n",
      "- Definition of Multi Agent Systems\n",
      "- Importance and applications in various fields\n",
      "II. Latest Trends in Multi Agent Systems\n",
      "- Adoption of machine learning and AI in MAS\n",
      "- Integration of MAS in smart cities and IoT\n",
      "III. Key Players in Multi Agent Systems\n",
      "- Companies leading in MAS development\n",
      "- Research institutions and universities focusing on MAS\n",
      "IV. Noteworthy News on Multi Agent Systems\n",
      "- Recent advancements and breakthroughs in MAS\n",
      "- Impact of MAS on industries and society\n",
      "V. Target Audience Analysis\n",
      "- Professionals in AI, machine learning, and robotics\n",
      "- Researchers and academics in computer science\n",
      "- Tech enthusiasts interested in emerging technologies\n",
      "- Businesses looking to implement MAS solutions\n",
      "VI. SEO Keywords\n",
      "- Multi Agent Systems\n",
      "- MAS trends\n",
      "- Key players in MAS\n",
      "- Noteworthy news in MAS\n",
      "VII. Resources\n",
      "- IEEE Transactions on Multi Agent Systems\n",
      "- ACM Transactions on Autonomous and Adaptive Systems\n",
      "- Research papers and articles on MAS advancements\n",
      "\n",
      "Call to Action:\n",
      "Stay updated on the latest trends and advancements in Multi Agent Systems by subscribing to our newsletter for exclusive content and insights.\n",
      "\n",
      "This comprehensive content plan provides a detailed outline for an engaging and informative blog article on Multi Agent Systems. By prioritizing the latest trends, key players, and noteworthy news in MAS, and considering the interests and pain points of the target audience, this article will offer valuable information for readers looking to learn more about this cutting-edge technology. Incorporating relevant SEO keywords and utilizing reputable resources will ensure the article is well-researched and optimized for search engines.\u001b[0m\n",
      "\n",
      "\u001b[1m> Finished chain.\u001b[0m\n",
      "\u001b[1m\u001b[92m [DEBUG]: == [Content Planner] Task output: Content Plan: Multi Agent Systems\n",
      "\n",
      "Outline:\n",
      "I. Introduction\n",
      "- Definition of Multi Agent Systems\n",
      "- Importance and applications in various fields\n",
      "II. Latest Trends in Multi Agent Systems\n",
      "- Adoption of machine learning and AI in MAS\n",
      "- Integration of MAS in smart cities and IoT\n",
      "III. Key Players in Multi Agent Systems\n",
      "- Companies leading in MAS development\n",
      "- Research institutions and universities focusing on MAS\n",
      "IV. Noteworthy News on Multi Agent Systems\n",
      "- Recent advancements and breakthroughs in MAS\n",
      "- Impact of MAS on industries and society\n",
      "V. Target Audience Analysis\n",
      "- Professionals in AI, machine learning, and robotics\n",
      "- Researchers and academics in computer science\n",
      "- Tech enthusiasts interested in emerging technologies\n",
      "- Businesses looking to implement MAS solutions\n",
      "VI. SEO Keywords\n",
      "- Multi Agent Systems\n",
      "- MAS trends\n",
      "- Key players in MAS\n",
      "- Noteworthy news in MAS\n",
      "VII. Resources\n",
      "- IEEE Transactions on Multi Agent Systems\n",
      "- ACM Transactions on Autonomous and Adaptive Systems\n",
      "- Research papers and articles on MAS advancements\n",
      "\n",
      "Call to Action:\n",
      "Stay updated on the latest trends and advancements in Multi Agent Systems by subscribing to our newsletter for exclusive content and insights.\n",
      "\n",
      "This comprehensive content plan provides a detailed outline for an engaging and informative blog article on Multi Agent Systems. By prioritizing the latest trends, key players, and noteworthy news in MAS, and considering the interests and pain points of the target audience, this article will offer valuable information for readers looking to learn more about this cutting-edge technology. Incorporating relevant SEO keywords and utilizing reputable resources will ensure the article is well-researched and optimized for search engines.\n",
      "\n",
      "\u001b[00m\n",
      "\u001b[1m\u001b[95m [DEBUG]: == Working Agent: Content Writer\u001b[00m\n",
      "\u001b[1m\u001b[95m [INFO]: == Starting Task: 1. Use the content plan to craft a compelling blog post on Multi Agent Systems.\n",
      "2. Incorporate SEO keywords naturally.\n",
      "3. Sections/Subtitles are properly named in an engaging manner.\n",
      "4. Ensure the post is structured with an engaging introduction, insightful body, and a summarizing conclusion.\n",
      "5. Proofread for grammatical errors and alignment with the brand's voice.\n",
      "\u001b[00m\n",
      "\n",
      "\n",
      "\u001b[1m> Entering new CrewAgentExecutor chain...\u001b[0m\n",
      "\u001b[32;1m\u001b[1;3mI now have a clear understanding of the content plan provided and can craft a compelling blog post on Multi Agent Systems that aligns with the outlined objectives and direction. By incorporating SEO keywords naturally and structuring the post with an engaging introduction, insightful body, and summarizing conclusion, I aim to deliver a well-written piece that meets the criteria set forth in the task.\n",
      "\n",
      "Final Answer:\n",
      "\n",
      "# Exploring the Future of Multi Agent Systems\n",
      "\n",
      "## Introduction\n",
      "\n",
      "Multi Agent Systems (MAS) refer to a group of intelligent agents that interact with each other to achieve a common goal. These systems have gained significant importance and find applications in various fields such as robotics, autonomous vehicles, smart cities, and Internet of Things (IoT). MAS enable decentralized decision-making and coordination among agents, leading to efficient and scalable solutions in complex environments.\n",
      "\n",
      "## Latest Trends in Multi Agent Systems\n",
      "\n",
      "One of the latest trends in MAS is the adoption of machine learning and artificial intelligence (AI) techniques. By integrating these technologies, MAS can enhance their decision-making capabilities and adapt to dynamic environments. Moreover, MAS are increasingly being utilized in smart cities and IoT applications to optimize resource allocation, traffic management, and energy efficiency. The integration of MAS in these domains is shaping the future of urban planning and infrastructure development.\n",
      "\n",
      "## Key Players in Multi Agent Systems\n",
      "\n",
      "Several companies are at the forefront of MAS development, including Google, IBM, and Amazon. These tech giants are investing in research and development to push the boundaries of MAS capabilities and applications. Additionally, research institutions and universities such as MIT, Stanford, and Carnegie Mellon University are focusing on advancing MAS through cutting-edge research and innovation. Their contributions are shaping the landscape of MAS and driving progress in the field.\n",
      "\n",
      "## Noteworthy News on Multi Agent Systems\n",
      "\n",
      "Recent advancements in MAS include breakthroughs in swarm intelligence, where large groups of agents collaborate to solve complex problems. This approach mimics the behavior of natural systems such as ant colonies and flocking birds, leading to innovative solutions in optimization and decision-making. The impact of MAS on industries and society is profound, with applications ranging from supply chain management to healthcare delivery. As MAS continue to evolve, the possibilities for innovation and disruption are endless.\n",
      "\n",
      "## Conclusion\n",
      "\n",
      "In conclusion, Multi Agent Systems are revolutionizing the way we approach complex problems and optimize decision-making processes. By staying informed on the latest trends, key players, and noteworthy news in MAS, professionals in AI, machine learning, and robotics can leverage this technology to drive innovation and create new opportunities. As businesses look to implement MAS solutions, it is crucial to stay updated on advancements and breakthroughs in the field. Subscribe to our newsletter for exclusive content and insights to stay ahead of the curve in the exciting world of Multi Agent Systems.\u001b[0m\n",
      "\n",
      "\u001b[1m> Finished chain.\u001b[0m\n",
      "\u001b[1m\u001b[92m [DEBUG]: == [Content Writer] Task output: # Exploring the Future of Multi Agent Systems\n",
      "\n",
      "## Introduction\n",
      "\n",
      "Multi Agent Systems (MAS) refer to a group of intelligent agents that interact with each other to achieve a common goal. These systems have gained significant importance and find applications in various fields such as robotics, autonomous vehicles, smart cities, and Internet of Things (IoT). MAS enable decentralized decision-making and coordination among agents, leading to efficient and scalable solutions in complex environments.\n",
      "\n",
      "## Latest Trends in Multi Agent Systems\n",
      "\n",
      "One of the latest trends in MAS is the adoption of machine learning and artificial intelligence (AI) techniques. By integrating these technologies, MAS can enhance their decision-making capabilities and adapt to dynamic environments. Moreover, MAS are increasingly being utilized in smart cities and IoT applications to optimize resource allocation, traffic management, and energy efficiency. The integration of MAS in these domains is shaping the future of urban planning and infrastructure development.\n",
      "\n",
      "## Key Players in Multi Agent Systems\n",
      "\n",
      "Several companies are at the forefront of MAS development, including Google, IBM, and Amazon. These tech giants are investing in research and development to push the boundaries of MAS capabilities and applications. Additionally, research institutions and universities such as MIT, Stanford, and Carnegie Mellon University are focusing on advancing MAS through cutting-edge research and innovation. Their contributions are shaping the landscape of MAS and driving progress in the field.\n",
      "\n",
      "## Noteworthy News on Multi Agent Systems\n",
      "\n",
      "Recent advancements in MAS include breakthroughs in swarm intelligence, where large groups of agents collaborate to solve complex problems. This approach mimics the behavior of natural systems such as ant colonies and flocking birds, leading to innovative solutions in optimization and decision-making. The impact of MAS on industries and society is profound, with applications ranging from supply chain management to healthcare delivery. As MAS continue to evolve, the possibilities for innovation and disruption are endless.\n",
      "\n",
      "## Conclusion\n",
      "\n",
      "In conclusion, Multi Agent Systems are revolutionizing the way we approach complex problems and optimize decision-making processes. By staying informed on the latest trends, key players, and noteworthy news in MAS, professionals in AI, machine learning, and robotics can leverage this technology to drive innovation and create new opportunities. As businesses look to implement MAS solutions, it is crucial to stay updated on advancements and breakthroughs in the field. Subscribe to our newsletter for exclusive content and insights to stay ahead of the curve in the exciting world of Multi Agent Systems.\n",
      "\n",
      "\u001b[00m\n",
      "\u001b[1m\u001b[95m [DEBUG]: == Working Agent: Editor\u001b[00m\n",
      "\u001b[1m\u001b[95m [INFO]: == Starting Task: Proofread the given blog post for grammatical errors and alignment with the brand's voice.\u001b[00m\n",
      "\n",
      "\n",
      "\u001b[1m> Entering new CrewAgentExecutor chain...\u001b[0m\n"
     ]
    },
    {
     "name": "stdout",
     "output_type": "stream",
     "text": [
      "\u001b[32;1m\u001b[1;3mI now can give a great answer\n",
      "\n",
      "Final Answer:\n",
      "# Exploring the Future of Multi Agent Systems\n",
      "\n",
      "## Introduction\n",
      "\n",
      "Multi Agent Systems (MAS) refer to a group of intelligent agents that interact with each other to achieve a common goal. These systems have gained significant importance and find applications in various fields such as robotics, autonomous vehicles, smart cities, and Internet of Things (IoT). MAS enable decentralized decision-making and coordination among agents, leading to efficient and scalable solutions in complex environments.\n",
      "\n",
      "## Latest Trends in Multi Agent Systems\n",
      "\n",
      "One of the latest trends in MAS is the adoption of machine learning and artificial intelligence (AI) techniques. By integrating these technologies, MAS can enhance their decision-making capabilities and adapt to dynamic environments. Moreover, MAS are increasingly being utilized in smart cities and IoT applications to optimize resource allocation, traffic management, and energy efficiency. The integration of MAS in these domains is shaping the future of urban planning and infrastructure development.\n",
      "\n",
      "## Key Players in Multi Agent Systems\n",
      "\n",
      "Several companies are at the forefront of MAS development, including Google, IBM, and Amazon. These tech giants are investing in research and development to push the boundaries of MAS capabilities and applications. Additionally, research institutions and universities such as MIT, Stanford, and Carnegie Mellon University are focusing on advancing MAS through cutting-edge research and innovation. Their contributions are shaping the landscape of MAS and driving progress in the field.\n",
      "\n",
      "## Noteworthy News on Multi Agent Systems\n",
      "\n",
      "Recent advancements in MAS include breakthroughs in swarm intelligence, where large groups of agents collaborate to solve complex problems. This approach mimics the behavior of natural systems such as ant colonies and flocking birds, leading to innovative solutions in optimization and decision-making. The impact of MAS on industries and society is profound, with applications ranging from supply chain management to healthcare delivery. As MAS continue to evolve, the possibilities for innovation and disruption are endless.\n",
      "\n",
      "## Conclusion\n",
      "\n",
      "In conclusion, Multi Agent Systems are revolutionizing the way we approach complex problems and optimize decision-making processes. By staying informed on the latest trends, key players, and noteworthy news in MAS, professionals in AI, machine learning, and robotics can leverage this technology to drive innovation and create new opportunities. As businesses look to implement MAS solutions, it is crucial to stay updated on advancements and breakthroughs in the field. Subscribe to our newsletter for exclusive content and insights to stay ahead of the curve in the exciting world of Multi Agent Systems.\u001b[0m\n",
      "\n",
      "\u001b[1m> Finished chain.\u001b[0m\n",
      "\u001b[1m\u001b[92m [DEBUG]: == [Editor] Task output: # Exploring the Future of Multi Agent Systems\n",
      "\n",
      "## Introduction\n",
      "\n",
      "Multi Agent Systems (MAS) refer to a group of intelligent agents that interact with each other to achieve a common goal. These systems have gained significant importance and find applications in various fields such as robotics, autonomous vehicles, smart cities, and Internet of Things (IoT). MAS enable decentralized decision-making and coordination among agents, leading to efficient and scalable solutions in complex environments.\n",
      "\n",
      "## Latest Trends in Multi Agent Systems\n",
      "\n",
      "One of the latest trends in MAS is the adoption of machine learning and artificial intelligence (AI) techniques. By integrating these technologies, MAS can enhance their decision-making capabilities and adapt to dynamic environments. Moreover, MAS are increasingly being utilized in smart cities and IoT applications to optimize resource allocation, traffic management, and energy efficiency. The integration of MAS in these domains is shaping the future of urban planning and infrastructure development.\n",
      "\n",
      "## Key Players in Multi Agent Systems\n",
      "\n",
      "Several companies are at the forefront of MAS development, including Google, IBM, and Amazon. These tech giants are investing in research and development to push the boundaries of MAS capabilities and applications. Additionally, research institutions and universities such as MIT, Stanford, and Carnegie Mellon University are focusing on advancing MAS through cutting-edge research and innovation. Their contributions are shaping the landscape of MAS and driving progress in the field.\n",
      "\n",
      "## Noteworthy News on Multi Agent Systems\n",
      "\n",
      "Recent advancements in MAS include breakthroughs in swarm intelligence, where large groups of agents collaborate to solve complex problems. This approach mimics the behavior of natural systems such as ant colonies and flocking birds, leading to innovative solutions in optimization and decision-making. The impact of MAS on industries and society is profound, with applications ranging from supply chain management to healthcare delivery. As MAS continue to evolve, the possibilities for innovation and disruption are endless.\n",
      "\n",
      "## Conclusion\n",
      "\n",
      "In conclusion, Multi Agent Systems are revolutionizing the way we approach complex problems and optimize decision-making processes. By staying informed on the latest trends, key players, and noteworthy news in MAS, professionals in AI, machine learning, and robotics can leverage this technology to drive innovation and create new opportunities. As businesses look to implement MAS solutions, it is crucial to stay updated on advancements and breakthroughs in the field. Subscribe to our newsletter for exclusive content and insights to stay ahead of the curve in the exciting world of Multi Agent Systems.\n",
      "\n",
      "\u001b[00m\n"
     ]
    }
   ],
   "source": [
    "topic = \"Multi Agent Systems\"\n",
    "result = crew.kickoff(inputs={\"topic\": topic})"
   ]
  },
  {
   "cell_type": "code",
   "execution_count": 19,
   "metadata": {
    "height": 30
   },
   "outputs": [
    {
     "data": {
      "text/markdown": [
       "# Exploring the Future of Multi Agent Systems\n",
       "\n",
       "## Introduction\n",
       "\n",
       "Multi Agent Systems (MAS) refer to a group of intelligent agents that interact with each other to achieve a common goal. These systems have gained significant importance and find applications in various fields such as robotics, autonomous vehicles, smart cities, and Internet of Things (IoT). MAS enable decentralized decision-making and coordination among agents, leading to efficient and scalable solutions in complex environments.\n",
       "\n",
       "## Latest Trends in Multi Agent Systems\n",
       "\n",
       "One of the latest trends in MAS is the adoption of machine learning and artificial intelligence (AI) techniques. By integrating these technologies, MAS can enhance their decision-making capabilities and adapt to dynamic environments. Moreover, MAS are increasingly being utilized in smart cities and IoT applications to optimize resource allocation, traffic management, and energy efficiency. The integration of MAS in these domains is shaping the future of urban planning and infrastructure development.\n",
       "\n",
       "## Key Players in Multi Agent Systems\n",
       "\n",
       "Several companies are at the forefront of MAS development, including Google, IBM, and Amazon. These tech giants are investing in research and development to push the boundaries of MAS capabilities and applications. Additionally, research institutions and universities such as MIT, Stanford, and Carnegie Mellon University are focusing on advancing MAS through cutting-edge research and innovation. Their contributions are shaping the landscape of MAS and driving progress in the field.\n",
       "\n",
       "## Noteworthy News on Multi Agent Systems\n",
       "\n",
       "Recent advancements in MAS include breakthroughs in swarm intelligence, where large groups of agents collaborate to solve complex problems. This approach mimics the behavior of natural systems such as ant colonies and flocking birds, leading to innovative solutions in optimization and decision-making. The impact of MAS on industries and society is profound, with applications ranging from supply chain management to healthcare delivery. As MAS continue to evolve, the possibilities for innovation and disruption are endless.\n",
       "\n",
       "## Conclusion\n",
       "\n",
       "In conclusion, Multi Agent Systems are revolutionizing the way we approach complex problems and optimize decision-making processes. By staying informed on the latest trends, key players, and noteworthy news in MAS, professionals in AI, machine learning, and robotics can leverage this technology to drive innovation and create new opportunities. As businesses look to implement MAS solutions, it is crucial to stay updated on advancements and breakthroughs in the field. Subscribe to our newsletter for exclusive content and insights to stay ahead of the curve in the exciting world of Multi Agent Systems."
      ],
      "text/plain": [
       "<IPython.core.display.Markdown object>"
      ]
     },
     "execution_count": 19,
     "metadata": {},
     "output_type": "execute_result"
    }
   ],
   "source": [
    "Markdown(result)"
   ]
  },
  {
   "cell_type": "markdown",
   "metadata": {},
   "source": [
    "<a name='1'></a>\n",
    " ## Other Popular Models as LLM for your Agents"
   ]
  },
  {
   "cell_type": "markdown",
   "metadata": {},
   "source": [
    "#### Hugging Face (HuggingFaceHub endpoint)\n",
    "\n",
    "```Python\n",
    "from langchain_community.llms import HuggingFaceHub\n",
    "\n",
    "llm = HuggingFaceHub(\n",
    "    repo_id=\"HuggingFaceH4/zephyr-7b-beta\",\n",
    "    huggingfacehub_api_token=\"<HF_TOKEN_HERE>\",\n",
    "    task=\"text-generation\",\n",
    ")\n",
    "\n",
    "### you will pass \"llm\" to your agent function\n",
    "```"
   ]
  },
  {
   "cell_type": "markdown",
   "metadata": {},
   "source": [
    "#### Mistral API\n",
    "\n",
    "```Python\n",
    "OPENAI_API_KEY=your-mistral-api-key\n",
    "OPENAI_API_BASE=https://api.mistral.ai/v1\n",
    "OPENAI_MODEL_NAME=\"mistral-small\"\n",
    "```"
   ]
  },
  {
   "cell_type": "markdown",
   "metadata": {},
   "source": [
    "#### Cohere\n",
    "\n",
    "```Python\n",
    "from langchain_community.chat_models import ChatCohere\n",
    "# Initialize language model\n",
    "os.environ[\"COHERE_API_KEY\"] = \"your-cohere-api-key\"\n",
    "llm = ChatCohere()\n",
    "\n",
    "### you will pass \"llm\" to your agent function\n",
    "```"
   ]
  },
  {
   "cell_type": "markdown",
   "metadata": {},
   "source": [
    "### For using Llama locally with Ollama and more, checkout the crewAI documentation on [Connecting to any LLM](https://docs.crewai.com/how-to/LLM-Connections/)."
   ]
  },
  {
   "cell_type": "code",
   "execution_count": null,
   "metadata": {
    "height": 30
   },
   "outputs": [],
   "source": []
  },
  {
   "cell_type": "code",
   "execution_count": null,
   "metadata": {
    "height": 30
   },
   "outputs": [],
   "source": []
  },
  {
   "cell_type": "code",
   "execution_count": null,
   "metadata": {
    "height": 30
   },
   "outputs": [],
   "source": []
  }
 ],
 "metadata": {
  "colab": {
   "gpuType": "T4",
   "provenance": []
  },
  "kernelspec": {
   "display_name": "Python 3 (ipykernel)",
   "language": "python",
   "name": "python3"
  },
  "language_info": {
   "codemirror_mode": {
    "name": "ipython",
    "version": 3
   },
   "file_extension": ".py",
   "mimetype": "text/x-python",
   "name": "python",
   "nbconvert_exporter": "python",
   "pygments_lexer": "ipython3",
   "version": "3.11.9"
  }
 },
 "nbformat": 4,
 "nbformat_minor": 4
}
